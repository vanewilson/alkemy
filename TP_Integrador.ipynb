{
  "nbformat": 4,
  "nbformat_minor": 0,
  "metadata": {
    "colab": {
      "provenance": [],
      "collapsed_sections": [
        "m58mrJYfqboG",
        "87Md2-tCLvt-"
      ]
    },
    "kernelspec": {
      "name": "python3",
      "display_name": "Python 3"
    },
    "language_info": {
      "name": "python"
    }
  },
  "cells": [
    {
      "cell_type": "code",
      "execution_count": 1,
      "metadata": {
        "id": "LgxTtv9kpCD6"
      },
      "outputs": [],
      "source": [
        "import sqlite3 as sql\n",
        "import pandas as pd\n",
        "import matplotlib.pyplot as plt\n",
        "import seaborn as sns"
      ]
    },
    {
      "cell_type": "markdown",
      "source": [
        "# Creación de base de datos y guardado de DataFrame"
      ],
      "metadata": {
        "id": "m58mrJYfqboG"
      }
    },
    {
      "cell_type": "code",
      "source": [
        "# Crear una conexión a la base de datos\n",
        "conn = sql.connect('ecommerce_database.db')\n",
        "\n",
        "# Crear un cursor\n",
        "cursor = conn.cursor()"
      ],
      "metadata": {
        "id": "BYfeosiO4BqR"
      },
      "execution_count": 4,
      "outputs": []
    },
    {
      "cell_type": "code",
      "source": [
        "#Crear tablas\n",
        "create_table_query='''\n",
        "    CREATE TABLE IF NOT EXISTS customers (\n",
        "    customer_id TEXT PRIMARY KEY,\n",
        "    customer_unique_id TEXT,\n",
        "    customer_zip_code_prefix INTEGER,\n",
        "    customer_city TEXT,\n",
        "    customer_state TEXT\n",
        ");\n",
        "    CREATE TABLE IF NOT EXISTS order_items (\n",
        "    order_id TEXT,\n",
        "    order_item_id INTEGER,\n",
        "    product_id TEXT,\n",
        "    seller_id TEXT,\n",
        "    shipping_limit_date TEXT,\n",
        "    price REAL,\n",
        "    freight_value REAL,\n",
        "    PRIMARY KEY (order_id, order_item_id)\n",
        ");\n",
        "    CREATE TABLE IF NOT EXISTS order_payments (\n",
        "    order_id TEXT,\n",
        "    payment_sequential INTEGER,\n",
        "    payment_type TEXT,\n",
        "    payment_installments INTEGER,\n",
        "    payment_value REAL,\n",
        "    PRIMARY KEY(order_id,payment_sequential)\n",
        ");\n",
        "    CREATE TABLE IF NOT EXISTS orders (\n",
        "    order_id TEXT PRIMARY KEY,\n",
        "    customer_id TEXT,\n",
        "    order_status TEXT,\n",
        "    order_purchase_timestamp TEXT,\n",
        "    order_approved_at TEXT,\n",
        "    order_delivered_carrier_date TEXT,\n",
        "    order_delivered_customer_date TEXT,\n",
        "    order_estimated_delivery_date TEXT\n",
        ");\n",
        "    CREATE TABLE IF NOT EXISTS products (\n",
        "    product_id TEXT PRIMARY KEY,\n",
        "    product_category_name TEXT,\n",
        "    product_name_lenght REAL,\n",
        "    product_description_lenght REAL,\n",
        "    product_photos_qty REAL,\n",
        "    product_weight_g REAL,\n",
        "    product_length_cm REAL,\n",
        "    product_height_cm REAL,\n",
        "    product_width_cm REAL\n",
        ");\n",
        "'''\n",
        "\n",
        "cursor.executescript(create_table_query)\n",
        "conn.commit()"
      ],
      "metadata": {
        "id": "ziPn9mc18gdt"
      },
      "execution_count": 5,
      "outputs": []
    },
    {
      "cell_type": "markdown",
      "source": [
        "# Realizar las siguientes actividades con Pandas"
      ],
      "metadata": {
        "id": "QFFRyH8cwysU"
      }
    },
    {
      "cell_type": "markdown",
      "source": [
        "○ Cargar los archivos CSV en DataFrames de Pandas"
      ],
      "metadata": {
        "id": "FdoKK6pYqJNH"
      }
    },
    {
      "cell_type": "code",
      "source": [
        "#Leer los archivos y guardar los df en la BBDD\n",
        "customers_df = pd.read_csv('ecommerce_customers_dataset.csv')\n",
        "orders_df = pd.read_csv('ecommerce_orders_dataset.csv')\n",
        "order_items_df = pd.read_csv('ecommerce_order_items_dataset.csv')\n",
        "products_df = pd.read_csv('ecommerce_products_dataset.csv')\n",
        "order_payments_df = pd.read_csv('ecommerce_order_payments_dataset.csv')\n"
      ],
      "metadata": {
        "id": "ZNFjINn763B8"
      },
      "execution_count": 6,
      "outputs": []
    },
    {
      "cell_type": "code",
      "source": [
        "# Insertar datos\n",
        "customers_df.to_sql('customers', conn, index=True, if_exists='replace')\n",
        "order_items_df.to_sql('order_items', conn, index=True, if_exists='replace')\n",
        "order_payments_df.to_sql('order_payments', conn, index=True, if_exists='replace')\n",
        "orders_df.to_sql('orders', conn, index=True, if_exists='replace')\n",
        "products_df.to_sql('products', conn, index=True, if_exists='replace')\n"
      ],
      "metadata": {
        "id": "gkgCTuGnUI3N"
      },
      "execution_count": null,
      "outputs": []
    },
    {
      "cell_type": "markdown",
      "source": [
        "○ Establecer la columna índices de las tablas como la clave primaria en el DataFrame, ejemplo para customers la clave será customer_id."
      ],
      "metadata": {
        "id": "NpnPGaWDqL0p"
      }
    },
    {
      "cell_type": "code",
      "source": [
        "# Establecer la columna índice como clave primaria\n",
        "customers_df.set_index('customer_id', inplace=True)\n",
        "orders_df.set_index('order_id', inplace=True)\n",
        "order_items_df.set_index('order_item_id', inplace=True)\n",
        "products_df.set_index('product_id', inplace=True)\n",
        "order_payments_df.set_index('order_id', inplace=True)"
      ],
      "metadata": {
        "id": "Jtduj0wwUIF9"
      },
      "execution_count": 8,
      "outputs": []
    },
    {
      "cell_type": "code",
      "source": [
        "print(f'''Indices de Tablas:\n",
        "Tabla Customers: '{customers_df.index.name}'\n",
        "Tabla Orders: '{orders_df.index.name}'\n",
        "Tabla Order Items: '{order_items_df.index.name}'\n",
        "Tabla Products: '{products_df.index.name}'\n",
        "Tabla Order Payments: '{order_payments_df.index.name}'\n",
        "''')"
      ],
      "metadata": {
        "id": "OFEyQZ6ggoKP",
        "colab": {
          "base_uri": "https://localhost:8080/"
        },
        "outputId": "3ec21342-8716-4593-cfb6-0f6da3717699"
      },
      "execution_count": 9,
      "outputs": [
        {
          "output_type": "stream",
          "name": "stdout",
          "text": [
            "Indices de Tablas:\n",
            "Tabla Customers: 'customer_id'\n",
            "Tabla Orders: 'order_id'\n",
            "Tabla Order Items: 'order_item_id'\n",
            "Tabla Products: 'product_id'\n",
            "Tabla Order Payments: 'order_id'\n",
            "\n"
          ]
        }
      ]
    },
    {
      "cell_type": "markdown",
      "source": [
        "○ Obtener el número total de clientes únicos en el conjunto de datos"
      ],
      "metadata": {
        "id": "D9nembjSqOJ4"
      }
    },
    {
      "cell_type": "code",
      "source": [
        "total_clientes_unicos = customers_df['customer_unique_id'].nunique()\n",
        "print(f'El número total de clientes únicos es: {total_clientes_unicos}')\n"
      ],
      "metadata": {
        "id": "Wv9-oQBTqQOn",
        "colab": {
          "base_uri": "https://localhost:8080/"
        },
        "outputId": "cd78ba00-d49f-44cf-c89e-173f9c373e46"
      },
      "execution_count": 212,
      "outputs": [
        {
          "output_type": "stream",
          "name": "stdout",
          "text": [
            "El número total de clientes únicos es: 96096\n"
          ]
        }
      ]
    },
    {
      "cell_type": "markdown",
      "source": [
        "○ Calcular el promedio de valor de pago por pedido - MODIFICADO"
      ],
      "metadata": {
        "id": "6CAEQ3XfqQXP"
      }
    },
    {
      "cell_type": "markdown",
      "source": [
        "Se realizó el calculo de \"valor promedio de los pedidos por ciudad\", dado que realizar un promedio de un unico valor daria como resultado ese mismo valor, por lo cual, no aportaria ningún analisis enriquecedor."
      ],
      "metadata": {
        "id": "3T19hJrSPg9X"
      }
    },
    {
      "cell_type": "code",
      "source": [
        "#Realice un merge de la tablas orders_df, order_payments_df y customer_df para\n",
        "#obtener el valor promedio de los pedidos por ciudad.\n",
        "\n",
        "merged_df2 = pd.merge(orders_df, order_payments_df, how ='inner', left_on='order_id', right_on='order_id')\n",
        "merged_df2\n",
        "merged_df3 = pd.merge(merged_df2, customers_df, how ='inner', left_on ='customer_id', right_on= 'customer_id')\n",
        "merged_df3\n",
        "\n",
        "promedio_pago_ciudad = merged_df3.groupby('customer_city')['payment_value'].mean().sort_values(ascending=False).reset_index()\n",
        "\n",
        "#Redondeo a dos y cambio nombre a columna\n",
        "promedio_pago_ciudad['payment_value'] = promedio_pago_ciudad['payment_value'].round(2)\n",
        "promedio_pago_ciudad = promedio_pago_ciudad.rename(columns={'payment_value' : 'valor_promedio_pedido'})\n",
        "\n",
        "promedio_pago_ciudad"
      ],
      "metadata": {
        "id": "8X73JYs8NkfO"
      },
      "execution_count": null,
      "outputs": []
    },
    {
      "cell_type": "markdown",
      "source": [
        "○ Determinar la categoría de producto más vendida"
      ],
      "metadata": {
        "id": "-BFczEZ5qTKs"
      }
    },
    {
      "cell_type": "code",
      "source": [
        "merged_df = pd.merge(products_df, order_items_df, how ='inner', left_on='product_id', right_on='product_id')\n",
        "categoria_mas_vendida = merged_df['product_category_name'].value_counts().head(1)\n",
        "\n",
        "print(f'La categoría más vendida es: {categoria_mas_vendida.index[0]}')\n"
      ],
      "metadata": {
        "id": "qR7puNjUm3gg",
        "colab": {
          "base_uri": "https://localhost:8080/"
        },
        "outputId": "f86eafab-37b2-47d0-b630-541b5399de60"
      },
      "execution_count": 12,
      "outputs": [
        {
          "output_type": "stream",
          "name": "stdout",
          "text": [
            "La categoría más vendida es: cama_mesa_banho\n"
          ]
        }
      ]
    },
    {
      "cell_type": "markdown",
      "source": [
        "○ Calcular el número total de pedidos realizados"
      ],
      "metadata": {
        "id": "KqysixvlqTjp"
      }
    },
    {
      "cell_type": "code",
      "source": [
        "total_pedidos = orders_df['order_status'].count()\n",
        "print(f'El número total de pedidos realizados es: {total_pedidos}')"
      ],
      "metadata": {
        "id": "YMSXiVpypR4J",
        "colab": {
          "base_uri": "https://localhost:8080/"
        },
        "outputId": "8d12b6dd-83fa-4682-bb66-3685ce96105b"
      },
      "execution_count": 13,
      "outputs": [
        {
          "output_type": "stream",
          "name": "stdout",
          "text": [
            "El número total de pedidos realizados es: 99441\n"
          ]
        }
      ]
    },
    {
      "cell_type": "markdown",
      "source": [
        "#Consulta Pragma"
      ],
      "metadata": {
        "id": "87Md2-tCLvt-"
      }
    },
    {
      "cell_type": "markdown",
      "source": [
        "Ejecutar una consulta PRAGMA para obtener la estructura de las tablas y guardar la info a un archivo con extensión .info."
      ],
      "metadata": {
        "id": "EL9A2Y4Mi1TH"
      }
    },
    {
      "cell_type": "code",
      "source": [
        "with open('./estructuras_tablas.info', 'w') as file:\n",
        "    for estructura in cursor.execute('pragma table_info(customers);').fetchall():\n",
        "        print(estructura, file=file)"
      ],
      "metadata": {
        "id": "OElVpLuZi17h"
      },
      "execution_count": null,
      "outputs": []
    },
    {
      "cell_type": "markdown",
      "source": [
        "Obtener los nombres de los índices de las tablas y guardar la info a un archivo con extensión .info."
      ],
      "metadata": {
        "id": "7ThfPVYdi2fk"
      }
    },
    {
      "cell_type": "code",
      "source": [
        "cursor.execute(\"SELECT name FROM sqlite_master WHERE type='table';\")\n",
        "nombre_tablas = cursor.fetchall()\n",
        "\n",
        "with open('indices_tablas.info', 'w') as file:\n",
        "    for tabla in nombre_tablas:\n",
        "        tabla = tabla[0]\n",
        "        pragma_query = f\"PRAGMA index_list({tabla});\"\n",
        "        cursor.execute(pragma_query)\n",
        "        index_info = cursor.fetchall()\n",
        "\n",
        "        file.write(f\"Índices de la tabla '{tabla}':\\n\")\n",
        "        for index in index_info:\n",
        "            print(index, file=file)"
      ],
      "metadata": {
        "id": "8M_joEBii2xJ"
      },
      "execution_count": null,
      "outputs": []
    },
    {
      "cell_type": "markdown",
      "source": [
        "# Analisis comportamiento de compra de los clientes"
      ],
      "metadata": {
        "id": "-FonRIv1qke_"
      }
    },
    {
      "cell_type": "markdown",
      "source": [
        "● Utilizando los datos de las tablas customers, orders y\n",
        "order_items."
      ],
      "metadata": {
        "id": "qdlGzIn6C7jC"
      }
    },
    {
      "cell_type": "markdown",
      "source": [
        "● Calcula el valor promedio de los pedidos realizados por cada cliente."
      ],
      "metadata": {
        "id": "Au6rJ3dgMsam"
      }
    },
    {
      "cell_type": "code",
      "source": [
        "precio_promedio_pedido_query = '''\n",
        "SELECT\n",
        "  c.customer_unique_id, AVG(oi.price + oi.freight_value) AS precio_orden_promedio\n",
        "  FROM customers c\n",
        "    JOIN orders o ON c.customer_id = o.customer_id\n",
        "    JOIN order_items oi ON o.order_id = oi.order_id\n",
        "  GROUP BY c.customer_unique_id\n",
        "  ORDER BY precio_orden_promedio DESC\n",
        "  LIMIT 10\n",
        "'''\n",
        "precio_promedio_pedido = pd.read_sql_query(precio_promedio_pedido_query, conn)\n",
        "precio_promedio_pedido\n",
        "\n",
        "precio_promedio_pedido.to_csv('precios_promedio_pedido.csv', index=False)"
      ],
      "metadata": {
        "id": "yJmf8iiRMiRO"
      },
      "execution_count": 213,
      "outputs": []
    },
    {
      "cell_type": "markdown",
      "source": [
        "● Identifica a los clientes con los pedidos de mayor valor."
      ],
      "metadata": {
        "id": "6vSYZI78M4Gj"
      }
    },
    {
      "cell_type": "code",
      "source": [
        "#Top 10 clientes con pedidos de mayor valor\n",
        "\n",
        "clientes_mayores_compras_query = '''\n",
        "SELECT\n",
        "  c.customer_unique_id, sum(oi.price + oi.freight_value) AS precio_total\n",
        "  FROM customers c\n",
        "    JOIN orders o ON c.customer_id = o.customer_id\n",
        "    JOIN order_items oi ON o.order_id = oi.order_id\n",
        "  GROUP BY c.customer_unique_id\n",
        "  ORDER BY precio_total DESC\n",
        "  LIMIT 10\n",
        "'''\n",
        "clientes_mayores_compras = pd.read_sql_query(clientes_mayores_compras_query, conn)\n",
        "\n",
        "clientes_mayores_compras"
      ],
      "metadata": {
        "id": "YEJo1BV_M2qR",
        "colab": {
          "base_uri": "https://localhost:8080/",
          "height": 363
        },
        "outputId": "390df031-04b9-44af-b247-00b0fc5b735a"
      },
      "execution_count": 214,
      "outputs": [
        {
          "output_type": "execute_result",
          "data": {
            "text/plain": [
              "                 customer_unique_id  precio_total\n",
              "0  0a0a92112bd4c708ca5fde585afaa872      13664.08\n",
              "1  da122df9eeddfedc1dc1f5349a1a690c       7571.63\n",
              "2  763c8b1c9c68a0229c42c9fc6f662b93       7274.88\n",
              "3  dc4802a71eae9be1dd28f5d788ceb526       6929.31\n",
              "4  459bef486812aa25204be022145caa62       6922.21\n",
              "5  ff4159b92c40ebe40454e3e6a7c35ed6       6726.66\n",
              "6  4007669dec559734d6f53e029e360987       6081.54\n",
              "7  5d0a2980b292d049061542014e8960bf       4809.44\n",
              "8  eebb5dda148d3893cdaf5b5ca3040ccb       4764.34\n",
              "9  48e1ac109decbb87765a3eade6854098       4681.78"
            ],
            "text/html": [
              "\n",
              "  <div id=\"df-fb637ad0-d3f4-42c5-b1f9-99c31d7775f2\" class=\"colab-df-container\">\n",
              "    <div>\n",
              "<style scoped>\n",
              "    .dataframe tbody tr th:only-of-type {\n",
              "        vertical-align: middle;\n",
              "    }\n",
              "\n",
              "    .dataframe tbody tr th {\n",
              "        vertical-align: top;\n",
              "    }\n",
              "\n",
              "    .dataframe thead th {\n",
              "        text-align: right;\n",
              "    }\n",
              "</style>\n",
              "<table border=\"1\" class=\"dataframe\">\n",
              "  <thead>\n",
              "    <tr style=\"text-align: right;\">\n",
              "      <th></th>\n",
              "      <th>customer_unique_id</th>\n",
              "      <th>precio_total</th>\n",
              "    </tr>\n",
              "  </thead>\n",
              "  <tbody>\n",
              "    <tr>\n",
              "      <th>0</th>\n",
              "      <td>0a0a92112bd4c708ca5fde585afaa872</td>\n",
              "      <td>13664.08</td>\n",
              "    </tr>\n",
              "    <tr>\n",
              "      <th>1</th>\n",
              "      <td>da122df9eeddfedc1dc1f5349a1a690c</td>\n",
              "      <td>7571.63</td>\n",
              "    </tr>\n",
              "    <tr>\n",
              "      <th>2</th>\n",
              "      <td>763c8b1c9c68a0229c42c9fc6f662b93</td>\n",
              "      <td>7274.88</td>\n",
              "    </tr>\n",
              "    <tr>\n",
              "      <th>3</th>\n",
              "      <td>dc4802a71eae9be1dd28f5d788ceb526</td>\n",
              "      <td>6929.31</td>\n",
              "    </tr>\n",
              "    <tr>\n",
              "      <th>4</th>\n",
              "      <td>459bef486812aa25204be022145caa62</td>\n",
              "      <td>6922.21</td>\n",
              "    </tr>\n",
              "    <tr>\n",
              "      <th>5</th>\n",
              "      <td>ff4159b92c40ebe40454e3e6a7c35ed6</td>\n",
              "      <td>6726.66</td>\n",
              "    </tr>\n",
              "    <tr>\n",
              "      <th>6</th>\n",
              "      <td>4007669dec559734d6f53e029e360987</td>\n",
              "      <td>6081.54</td>\n",
              "    </tr>\n",
              "    <tr>\n",
              "      <th>7</th>\n",
              "      <td>5d0a2980b292d049061542014e8960bf</td>\n",
              "      <td>4809.44</td>\n",
              "    </tr>\n",
              "    <tr>\n",
              "      <th>8</th>\n",
              "      <td>eebb5dda148d3893cdaf5b5ca3040ccb</td>\n",
              "      <td>4764.34</td>\n",
              "    </tr>\n",
              "    <tr>\n",
              "      <th>9</th>\n",
              "      <td>48e1ac109decbb87765a3eade6854098</td>\n",
              "      <td>4681.78</td>\n",
              "    </tr>\n",
              "  </tbody>\n",
              "</table>\n",
              "</div>\n",
              "    <div class=\"colab-df-buttons\">\n",
              "\n",
              "  <div class=\"colab-df-container\">\n",
              "    <button class=\"colab-df-convert\" onclick=\"convertToInteractive('df-fb637ad0-d3f4-42c5-b1f9-99c31d7775f2')\"\n",
              "            title=\"Convert this dataframe to an interactive table.\"\n",
              "            style=\"display:none;\">\n",
              "\n",
              "  <svg xmlns=\"http://www.w3.org/2000/svg\" height=\"24px\" viewBox=\"0 -960 960 960\">\n",
              "    <path d=\"M120-120v-720h720v720H120Zm60-500h600v-160H180v160Zm220 220h160v-160H400v160Zm0 220h160v-160H400v160ZM180-400h160v-160H180v160Zm440 0h160v-160H620v160ZM180-180h160v-160H180v160Zm440 0h160v-160H620v160Z\"/>\n",
              "  </svg>\n",
              "    </button>\n",
              "\n",
              "  <style>\n",
              "    .colab-df-container {\n",
              "      display:flex;\n",
              "      gap: 12px;\n",
              "    }\n",
              "\n",
              "    .colab-df-convert {\n",
              "      background-color: #E8F0FE;\n",
              "      border: none;\n",
              "      border-radius: 50%;\n",
              "      cursor: pointer;\n",
              "      display: none;\n",
              "      fill: #1967D2;\n",
              "      height: 32px;\n",
              "      padding: 0 0 0 0;\n",
              "      width: 32px;\n",
              "    }\n",
              "\n",
              "    .colab-df-convert:hover {\n",
              "      background-color: #E2EBFA;\n",
              "      box-shadow: 0px 1px 2px rgba(60, 64, 67, 0.3), 0px 1px 3px 1px rgba(60, 64, 67, 0.15);\n",
              "      fill: #174EA6;\n",
              "    }\n",
              "\n",
              "    .colab-df-buttons div {\n",
              "      margin-bottom: 4px;\n",
              "    }\n",
              "\n",
              "    [theme=dark] .colab-df-convert {\n",
              "      background-color: #3B4455;\n",
              "      fill: #D2E3FC;\n",
              "    }\n",
              "\n",
              "    [theme=dark] .colab-df-convert:hover {\n",
              "      background-color: #434B5C;\n",
              "      box-shadow: 0px 1px 3px 1px rgba(0, 0, 0, 0.15);\n",
              "      filter: drop-shadow(0px 1px 2px rgba(0, 0, 0, 0.3));\n",
              "      fill: #FFFFFF;\n",
              "    }\n",
              "  </style>\n",
              "\n",
              "    <script>\n",
              "      const buttonEl =\n",
              "        document.querySelector('#df-fb637ad0-d3f4-42c5-b1f9-99c31d7775f2 button.colab-df-convert');\n",
              "      buttonEl.style.display =\n",
              "        google.colab.kernel.accessAllowed ? 'block' : 'none';\n",
              "\n",
              "      async function convertToInteractive(key) {\n",
              "        const element = document.querySelector('#df-fb637ad0-d3f4-42c5-b1f9-99c31d7775f2');\n",
              "        const dataTable =\n",
              "          await google.colab.kernel.invokeFunction('convertToInteractive',\n",
              "                                                    [key], {});\n",
              "        if (!dataTable) return;\n",
              "\n",
              "        const docLinkHtml = 'Like what you see? Visit the ' +\n",
              "          '<a target=\"_blank\" href=https://colab.research.google.com/notebooks/data_table.ipynb>data table notebook</a>'\n",
              "          + ' to learn more about interactive tables.';\n",
              "        element.innerHTML = '';\n",
              "        dataTable['output_type'] = 'display_data';\n",
              "        await google.colab.output.renderOutput(dataTable, element);\n",
              "        const docLink = document.createElement('div');\n",
              "        docLink.innerHTML = docLinkHtml;\n",
              "        element.appendChild(docLink);\n",
              "      }\n",
              "    </script>\n",
              "  </div>\n",
              "\n",
              "\n",
              "<div id=\"df-9d3dcdb5-9f19-460e-baac-3ef14e2255d4\">\n",
              "  <button class=\"colab-df-quickchart\" onclick=\"quickchart('df-9d3dcdb5-9f19-460e-baac-3ef14e2255d4')\"\n",
              "            title=\"Suggest charts.\"\n",
              "            style=\"display:none;\">\n",
              "\n",
              "<svg xmlns=\"http://www.w3.org/2000/svg\" height=\"24px\"viewBox=\"0 0 24 24\"\n",
              "     width=\"24px\">\n",
              "    <g>\n",
              "        <path d=\"M19 3H5c-1.1 0-2 .9-2 2v14c0 1.1.9 2 2 2h14c1.1 0 2-.9 2-2V5c0-1.1-.9-2-2-2zM9 17H7v-7h2v7zm4 0h-2V7h2v10zm4 0h-2v-4h2v4z\"/>\n",
              "    </g>\n",
              "</svg>\n",
              "  </button>\n",
              "\n",
              "<style>\n",
              "  .colab-df-quickchart {\n",
              "    background-color: #E8F0FE;\n",
              "    border: none;\n",
              "    border-radius: 50%;\n",
              "    cursor: pointer;\n",
              "    display: none;\n",
              "    fill: #1967D2;\n",
              "    height: 32px;\n",
              "    padding: 0 0 0 0;\n",
              "    width: 32px;\n",
              "  }\n",
              "\n",
              "  .colab-df-quickchart:hover {\n",
              "    background-color: #E2EBFA;\n",
              "    box-shadow: 0px 1px 2px rgba(60, 64, 67, 0.3), 0px 1px 3px 1px rgba(60, 64, 67, 0.15);\n",
              "    fill: #174EA6;\n",
              "  }\n",
              "\n",
              "  [theme=dark] .colab-df-quickchart {\n",
              "    background-color: #3B4455;\n",
              "    fill: #D2E3FC;\n",
              "  }\n",
              "\n",
              "  [theme=dark] .colab-df-quickchart:hover {\n",
              "    background-color: #434B5C;\n",
              "    box-shadow: 0px 1px 3px 1px rgba(0, 0, 0, 0.15);\n",
              "    filter: drop-shadow(0px 1px 2px rgba(0, 0, 0, 0.3));\n",
              "    fill: #FFFFFF;\n",
              "  }\n",
              "</style>\n",
              "\n",
              "  <script>\n",
              "    async function quickchart(key) {\n",
              "      const charts = await google.colab.kernel.invokeFunction(\n",
              "          'suggestCharts', [key], {});\n",
              "    }\n",
              "    (() => {\n",
              "      let quickchartButtonEl =\n",
              "        document.querySelector('#df-9d3dcdb5-9f19-460e-baac-3ef14e2255d4 button');\n",
              "      quickchartButtonEl.style.display =\n",
              "        google.colab.kernel.accessAllowed ? 'block' : 'none';\n",
              "    })();\n",
              "  </script>\n",
              "</div>\n",
              "    </div>\n",
              "  </div>\n"
            ]
          },
          "metadata": {},
          "execution_count": 214
        }
      ]
    },
    {
      "cell_type": "code",
      "source": [
        "clientes_mayores_compras.to_csv('clientes_mayores_compras.csv', index=False)"
      ],
      "metadata": {
        "id": "xMjmwLf3x65j"
      },
      "execution_count": 215,
      "outputs": []
    },
    {
      "cell_type": "markdown",
      "source": [
        "● Calcular la frecuencia promedio de compra por cliente, es decir, la cantidad de pedidos realizados en un período de tiempo determinado."
      ],
      "metadata": {
        "id": "89o2CqmbVRZ8"
      }
    },
    {
      "cell_type": "code",
      "source": [
        "# Se calcula la frecuencia, teniendo solamente en cuenta los casos que se realizaron mas de un pedido.\n",
        "\n",
        "frecuencia_promedio_query = '''\n",
        "SELECT c.customer_unique_id, count(o.order_id) as order_count, MIN(o.order_purchase_timestamp) as primera_compra,\n",
        "max(o.order_purchase_timestamp) as ultima_compra, julianday(max(o.order_purchase_timestamp))- julianday(MIN(o.order_purchase_timestamp)) as dif_dias,\n",
        "(julianday(max(o.order_purchase_timestamp))- julianday(MIN(o.order_purchase_timestamp))) / (count(o.order_id)-1) as prom_frecuencia\n",
        "FROM customers c\n",
        "JOIN orders o ON c.customer_id = o.customer_id\n",
        "GROUP BY c.customer_unique_id\n",
        "HAVING order_count > 1\n",
        "ORDER BY prom_frecuencia DESC\n",
        "\n",
        "'''\n",
        "frecuencia_promedio = pd.read_sql_query(frecuencia_promedio_query, conn)\n",
        "frecuencia_promedio\n",
        "frecuencia_promedio2 = frecuencia_promedio.sort_values(by='order_count', ascending=False)\n",
        "frecuencia_promedio2"
      ],
      "metadata": {
        "id": "hEvtDp3HViOj",
        "colab": {
          "base_uri": "https://localhost:8080/",
          "height": 424
        },
        "outputId": "f8a8cbbb-05c0-4f30-e65c-9dd7f5f151b6"
      },
      "execution_count": 216,
      "outputs": [
        {
          "output_type": "execute_result",
          "data": {
            "text/plain": [
              "                    customer_unique_id  order_count       primera_compra  \\\n",
              "1527  8d50f5eadf50201ccdcedfb9e2ac8455           17  2017-05-15 23:30:03   \n",
              "1663  3e43e6105506432c953e165fb2acf44c            9  2017-09-18 18:53:15   \n",
              "1296  6469f99c1f9dfae7733b25662e7f1782            7  2017-09-19 01:02:44   \n",
              "1391  ca77025e7201e3b30c44b472ff346268            7  2017-10-09 12:34:39   \n",
              "1751  1b6c7548a2a1f9037c1fd3ddfed95f33            7  2017-11-13 16:44:41   \n",
              "...                                ...          ...                  ...   \n",
              "1034  b26fa76ddf33e534491e4ec46f51bc64            2  2017-05-29 20:01:57   \n",
              "1035  151e9edb34867eaece4d6e7ae188f261            2  2018-04-05 10:36:36   \n",
              "1037  078f7e669cebf2fb640d0ad0dabb3068            2  2018-02-21 21:15:04   \n",
              "1038  9d8130e675ce6c1f24cd519444f7642b            2  2017-04-26 19:25:47   \n",
              "2996  02b20b7c813efede140142ac610e36dc            2  2018-03-19 20:50:39   \n",
              "\n",
              "            ultima_compra    dif_dias  prom_frecuencia  \n",
              "1527  2018-08-20 19:14:26  461.822488        28.863906  \n",
              "1663  2018-02-27 18:36:39  161.988472        20.248559  \n",
              "1296  2018-06-28 00:43:34  281.986690        46.997782  \n",
              "1391  2018-06-01 11:38:29  234.960995        39.160166  \n",
              "1751  2018-02-14 13:22:12   92.859387        15.476564  \n",
              "...                   ...         ...              ...  \n",
              "1034  2017-08-14 13:18:06   76.719549        76.719549  \n",
              "1035  2018-06-20 22:53:23   76.511655        76.511655  \n",
              "1037  2018-05-09 04:46:01   76.313160        76.313160  \n",
              "1038  2017-07-12 00:49:22   76.224711        76.224711  \n",
              "2996  2018-03-19 20:50:39    0.000000         0.000000  \n",
              "\n",
              "[2997 rows x 6 columns]"
            ],
            "text/html": [
              "\n",
              "  <div id=\"df-a64879cb-b652-4a4a-bfeb-8df04d6231de\" class=\"colab-df-container\">\n",
              "    <div>\n",
              "<style scoped>\n",
              "    .dataframe tbody tr th:only-of-type {\n",
              "        vertical-align: middle;\n",
              "    }\n",
              "\n",
              "    .dataframe tbody tr th {\n",
              "        vertical-align: top;\n",
              "    }\n",
              "\n",
              "    .dataframe thead th {\n",
              "        text-align: right;\n",
              "    }\n",
              "</style>\n",
              "<table border=\"1\" class=\"dataframe\">\n",
              "  <thead>\n",
              "    <tr style=\"text-align: right;\">\n",
              "      <th></th>\n",
              "      <th>customer_unique_id</th>\n",
              "      <th>order_count</th>\n",
              "      <th>primera_compra</th>\n",
              "      <th>ultima_compra</th>\n",
              "      <th>dif_dias</th>\n",
              "      <th>prom_frecuencia</th>\n",
              "    </tr>\n",
              "  </thead>\n",
              "  <tbody>\n",
              "    <tr>\n",
              "      <th>1527</th>\n",
              "      <td>8d50f5eadf50201ccdcedfb9e2ac8455</td>\n",
              "      <td>17</td>\n",
              "      <td>2017-05-15 23:30:03</td>\n",
              "      <td>2018-08-20 19:14:26</td>\n",
              "      <td>461.822488</td>\n",
              "      <td>28.863906</td>\n",
              "    </tr>\n",
              "    <tr>\n",
              "      <th>1663</th>\n",
              "      <td>3e43e6105506432c953e165fb2acf44c</td>\n",
              "      <td>9</td>\n",
              "      <td>2017-09-18 18:53:15</td>\n",
              "      <td>2018-02-27 18:36:39</td>\n",
              "      <td>161.988472</td>\n",
              "      <td>20.248559</td>\n",
              "    </tr>\n",
              "    <tr>\n",
              "      <th>1296</th>\n",
              "      <td>6469f99c1f9dfae7733b25662e7f1782</td>\n",
              "      <td>7</td>\n",
              "      <td>2017-09-19 01:02:44</td>\n",
              "      <td>2018-06-28 00:43:34</td>\n",
              "      <td>281.986690</td>\n",
              "      <td>46.997782</td>\n",
              "    </tr>\n",
              "    <tr>\n",
              "      <th>1391</th>\n",
              "      <td>ca77025e7201e3b30c44b472ff346268</td>\n",
              "      <td>7</td>\n",
              "      <td>2017-10-09 12:34:39</td>\n",
              "      <td>2018-06-01 11:38:29</td>\n",
              "      <td>234.960995</td>\n",
              "      <td>39.160166</td>\n",
              "    </tr>\n",
              "    <tr>\n",
              "      <th>1751</th>\n",
              "      <td>1b6c7548a2a1f9037c1fd3ddfed95f33</td>\n",
              "      <td>7</td>\n",
              "      <td>2017-11-13 16:44:41</td>\n",
              "      <td>2018-02-14 13:22:12</td>\n",
              "      <td>92.859387</td>\n",
              "      <td>15.476564</td>\n",
              "    </tr>\n",
              "    <tr>\n",
              "      <th>...</th>\n",
              "      <td>...</td>\n",
              "      <td>...</td>\n",
              "      <td>...</td>\n",
              "      <td>...</td>\n",
              "      <td>...</td>\n",
              "      <td>...</td>\n",
              "    </tr>\n",
              "    <tr>\n",
              "      <th>1034</th>\n",
              "      <td>b26fa76ddf33e534491e4ec46f51bc64</td>\n",
              "      <td>2</td>\n",
              "      <td>2017-05-29 20:01:57</td>\n",
              "      <td>2017-08-14 13:18:06</td>\n",
              "      <td>76.719549</td>\n",
              "      <td>76.719549</td>\n",
              "    </tr>\n",
              "    <tr>\n",
              "      <th>1035</th>\n",
              "      <td>151e9edb34867eaece4d6e7ae188f261</td>\n",
              "      <td>2</td>\n",
              "      <td>2018-04-05 10:36:36</td>\n",
              "      <td>2018-06-20 22:53:23</td>\n",
              "      <td>76.511655</td>\n",
              "      <td>76.511655</td>\n",
              "    </tr>\n",
              "    <tr>\n",
              "      <th>1037</th>\n",
              "      <td>078f7e669cebf2fb640d0ad0dabb3068</td>\n",
              "      <td>2</td>\n",
              "      <td>2018-02-21 21:15:04</td>\n",
              "      <td>2018-05-09 04:46:01</td>\n",
              "      <td>76.313160</td>\n",
              "      <td>76.313160</td>\n",
              "    </tr>\n",
              "    <tr>\n",
              "      <th>1038</th>\n",
              "      <td>9d8130e675ce6c1f24cd519444f7642b</td>\n",
              "      <td>2</td>\n",
              "      <td>2017-04-26 19:25:47</td>\n",
              "      <td>2017-07-12 00:49:22</td>\n",
              "      <td>76.224711</td>\n",
              "      <td>76.224711</td>\n",
              "    </tr>\n",
              "    <tr>\n",
              "      <th>2996</th>\n",
              "      <td>02b20b7c813efede140142ac610e36dc</td>\n",
              "      <td>2</td>\n",
              "      <td>2018-03-19 20:50:39</td>\n",
              "      <td>2018-03-19 20:50:39</td>\n",
              "      <td>0.000000</td>\n",
              "      <td>0.000000</td>\n",
              "    </tr>\n",
              "  </tbody>\n",
              "</table>\n",
              "<p>2997 rows × 6 columns</p>\n",
              "</div>\n",
              "    <div class=\"colab-df-buttons\">\n",
              "\n",
              "  <div class=\"colab-df-container\">\n",
              "    <button class=\"colab-df-convert\" onclick=\"convertToInteractive('df-a64879cb-b652-4a4a-bfeb-8df04d6231de')\"\n",
              "            title=\"Convert this dataframe to an interactive table.\"\n",
              "            style=\"display:none;\">\n",
              "\n",
              "  <svg xmlns=\"http://www.w3.org/2000/svg\" height=\"24px\" viewBox=\"0 -960 960 960\">\n",
              "    <path d=\"M120-120v-720h720v720H120Zm60-500h600v-160H180v160Zm220 220h160v-160H400v160Zm0 220h160v-160H400v160ZM180-400h160v-160H180v160Zm440 0h160v-160H620v160ZM180-180h160v-160H180v160Zm440 0h160v-160H620v160Z\"/>\n",
              "  </svg>\n",
              "    </button>\n",
              "\n",
              "  <style>\n",
              "    .colab-df-container {\n",
              "      display:flex;\n",
              "      gap: 12px;\n",
              "    }\n",
              "\n",
              "    .colab-df-convert {\n",
              "      background-color: #E8F0FE;\n",
              "      border: none;\n",
              "      border-radius: 50%;\n",
              "      cursor: pointer;\n",
              "      display: none;\n",
              "      fill: #1967D2;\n",
              "      height: 32px;\n",
              "      padding: 0 0 0 0;\n",
              "      width: 32px;\n",
              "    }\n",
              "\n",
              "    .colab-df-convert:hover {\n",
              "      background-color: #E2EBFA;\n",
              "      box-shadow: 0px 1px 2px rgba(60, 64, 67, 0.3), 0px 1px 3px 1px rgba(60, 64, 67, 0.15);\n",
              "      fill: #174EA6;\n",
              "    }\n",
              "\n",
              "    .colab-df-buttons div {\n",
              "      margin-bottom: 4px;\n",
              "    }\n",
              "\n",
              "    [theme=dark] .colab-df-convert {\n",
              "      background-color: #3B4455;\n",
              "      fill: #D2E3FC;\n",
              "    }\n",
              "\n",
              "    [theme=dark] .colab-df-convert:hover {\n",
              "      background-color: #434B5C;\n",
              "      box-shadow: 0px 1px 3px 1px rgba(0, 0, 0, 0.15);\n",
              "      filter: drop-shadow(0px 1px 2px rgba(0, 0, 0, 0.3));\n",
              "      fill: #FFFFFF;\n",
              "    }\n",
              "  </style>\n",
              "\n",
              "    <script>\n",
              "      const buttonEl =\n",
              "        document.querySelector('#df-a64879cb-b652-4a4a-bfeb-8df04d6231de button.colab-df-convert');\n",
              "      buttonEl.style.display =\n",
              "        google.colab.kernel.accessAllowed ? 'block' : 'none';\n",
              "\n",
              "      async function convertToInteractive(key) {\n",
              "        const element = document.querySelector('#df-a64879cb-b652-4a4a-bfeb-8df04d6231de');\n",
              "        const dataTable =\n",
              "          await google.colab.kernel.invokeFunction('convertToInteractive',\n",
              "                                                    [key], {});\n",
              "        if (!dataTable) return;\n",
              "\n",
              "        const docLinkHtml = 'Like what you see? Visit the ' +\n",
              "          '<a target=\"_blank\" href=https://colab.research.google.com/notebooks/data_table.ipynb>data table notebook</a>'\n",
              "          + ' to learn more about interactive tables.';\n",
              "        element.innerHTML = '';\n",
              "        dataTable['output_type'] = 'display_data';\n",
              "        await google.colab.output.renderOutput(dataTable, element);\n",
              "        const docLink = document.createElement('div');\n",
              "        docLink.innerHTML = docLinkHtml;\n",
              "        element.appendChild(docLink);\n",
              "      }\n",
              "    </script>\n",
              "  </div>\n",
              "\n",
              "\n",
              "<div id=\"df-35279d22-de69-4f63-acdc-34b64399cc70\">\n",
              "  <button class=\"colab-df-quickchart\" onclick=\"quickchart('df-35279d22-de69-4f63-acdc-34b64399cc70')\"\n",
              "            title=\"Suggest charts.\"\n",
              "            style=\"display:none;\">\n",
              "\n",
              "<svg xmlns=\"http://www.w3.org/2000/svg\" height=\"24px\"viewBox=\"0 0 24 24\"\n",
              "     width=\"24px\">\n",
              "    <g>\n",
              "        <path d=\"M19 3H5c-1.1 0-2 .9-2 2v14c0 1.1.9 2 2 2h14c1.1 0 2-.9 2-2V5c0-1.1-.9-2-2-2zM9 17H7v-7h2v7zm4 0h-2V7h2v10zm4 0h-2v-4h2v4z\"/>\n",
              "    </g>\n",
              "</svg>\n",
              "  </button>\n",
              "\n",
              "<style>\n",
              "  .colab-df-quickchart {\n",
              "    background-color: #E8F0FE;\n",
              "    border: none;\n",
              "    border-radius: 50%;\n",
              "    cursor: pointer;\n",
              "    display: none;\n",
              "    fill: #1967D2;\n",
              "    height: 32px;\n",
              "    padding: 0 0 0 0;\n",
              "    width: 32px;\n",
              "  }\n",
              "\n",
              "  .colab-df-quickchart:hover {\n",
              "    background-color: #E2EBFA;\n",
              "    box-shadow: 0px 1px 2px rgba(60, 64, 67, 0.3), 0px 1px 3px 1px rgba(60, 64, 67, 0.15);\n",
              "    fill: #174EA6;\n",
              "  }\n",
              "\n",
              "  [theme=dark] .colab-df-quickchart {\n",
              "    background-color: #3B4455;\n",
              "    fill: #D2E3FC;\n",
              "  }\n",
              "\n",
              "  [theme=dark] .colab-df-quickchart:hover {\n",
              "    background-color: #434B5C;\n",
              "    box-shadow: 0px 1px 3px 1px rgba(0, 0, 0, 0.15);\n",
              "    filter: drop-shadow(0px 1px 2px rgba(0, 0, 0, 0.3));\n",
              "    fill: #FFFFFF;\n",
              "  }\n",
              "</style>\n",
              "\n",
              "  <script>\n",
              "    async function quickchart(key) {\n",
              "      const charts = await google.colab.kernel.invokeFunction(\n",
              "          'suggestCharts', [key], {});\n",
              "    }\n",
              "    (() => {\n",
              "      let quickchartButtonEl =\n",
              "        document.querySelector('#df-35279d22-de69-4f63-acdc-34b64399cc70 button');\n",
              "      quickchartButtonEl.style.display =\n",
              "        google.colab.kernel.accessAllowed ? 'block' : 'none';\n",
              "    })();\n",
              "  </script>\n",
              "</div>\n",
              "    </div>\n",
              "  </div>\n"
            ]
          },
          "metadata": {},
          "execution_count": 216
        }
      ]
    },
    {
      "cell_type": "code",
      "source": [
        "frecuencia_promedio2.to_csv('frecuencia_promedio_compra.csv', index=False)"
      ],
      "metadata": {
        "id": "VaedHcL-yFNo"
      },
      "execution_count": 217,
      "outputs": []
    },
    {
      "cell_type": "markdown",
      "source": [
        "● **Generar un informe que muestre los clientes más\n",
        "frecuentes y su promedio de frecuencia de compra.**\n",
        "\n",
        "Se realizo un analisis sobre los 100 clientes con compras más frecuentes. Vemos que los clientes que volvieron a comprar, son clientes cuyo plazo de entrega fue, en su mayoria, menor a 100 dias. Por lo cual, podemos decir que a menor tiempo de entrega, mayor será la posibilidad de que vuelvan a comprar.\n"
      ],
      "metadata": {
        "id": "PdgtAlT8Wp5g"
      }
    },
    {
      "cell_type": "code",
      "source": [
        "# Visualización de la relación entre el ventas y entregas de los 100 clientes mas frecuentes.\n",
        "\n",
        "frecuencia_promedio3 = frecuencia_promedio2.head(100)\n",
        "\n",
        "plt.figure(figsize=(8, 6))\n",
        "sns.scatterplot(x='prom_frecuencia', y='order_count', data=frecuencia_promedio3)\n",
        "plt.title('Relación entre ventas y entregas')\n",
        "plt.xlabel('Frecuencia')\n",
        "plt.ylabel('TIempo de entrega (dias)')\n",
        "plt.show()"
      ],
      "metadata": {
        "colab": {
          "base_uri": "https://localhost:8080/",
          "height": 565
        },
        "id": "hRO1kAoefzD0",
        "outputId": "06187fa6-acee-4e71-a48b-43e29289891b"
      },
      "execution_count": 206,
      "outputs": [
        {
          "output_type": "display_data",
          "data": {
            "text/plain": [
              "<Figure size 800x600 with 1 Axes>"
            ],
            "image/png": "[encoded data removed]"
          },
          "metadata": {}
        }
      ]
    },
    {
      "cell_type": "markdown",
      "source": [
        "# Análisis de popularidad de productos por categoría"
      ],
      "metadata": {
        "id": "j3VpjH_YC8km"
      }
    },
    {
      "cell_type": "markdown",
      "source": [
        "● Utilizando los datos de las tablas products y order_items."
      ],
      "metadata": {
        "id": "K-YTWMYcDK0X"
      }
    },
    {
      "cell_type": "markdown",
      "source": [
        "● Agrupar los productos por categoría y calcular la cantidad total de unidades vendidas para cada categoría. (se muestran las 10 primeras)"
      ],
      "metadata": {
        "id": "ANLKm2OJW9RC"
      }
    },
    {
      "cell_type": "code",
      "source": [
        "categoria_mas_vendida_query = '''\n",
        "     SELECT p.product_category_name, count(oi.product_id) AS cantidad_total\n",
        "     FROM Products p\n",
        "     JOIN order_items oi ON p.product_id = oi.product_id\n",
        "     GROUP BY p.product_category_name\n",
        "     ORDER BY cantidad_total DESC\n",
        "     LIMIT 10\n",
        " '''\n",
        "categoria_mas_vendida = pd.read_sql_query(categoria_mas_vendida_query, conn)\n",
        "categoria_mas_vendida"
      ],
      "metadata": {
        "colab": {
          "base_uri": "https://localhost:8080/",
          "height": 363
        },
        "id": "WROtIuiEWQOZ",
        "outputId": "cb5c60ae-0db8-4c9e-b09b-50dd73f24ff9"
      },
      "execution_count": 218,
      "outputs": [
        {
          "output_type": "execute_result",
          "data": {
            "text/plain": [
              "    product_category_name  cantidad_total\n",
              "0         cama_mesa_banho           11115\n",
              "1            beleza_saude            9670\n",
              "2           esporte_lazer            8641\n",
              "3        moveis_decoracao            8334\n",
              "4  informatica_acessorios            7827\n",
              "5   utilidades_domesticas            6964\n",
              "6      relogios_presentes            5991\n",
              "7               telefonia            4545\n",
              "8      ferramentas_jardim            4347\n",
              "9              automotivo            4235"
            ],
            "text/html": [
              "\n",
              "  <div id=\"df-50a668dc-896c-4178-976b-22d8a3fb68e7\" class=\"colab-df-container\">\n",
              "    <div>\n",
              "<style scoped>\n",
              "    .dataframe tbody tr th:only-of-type {\n",
              "        vertical-align: middle;\n",
              "    }\n",
              "\n",
              "    .dataframe tbody tr th {\n",
              "        vertical-align: top;\n",
              "    }\n",
              "\n",
              "    .dataframe thead th {\n",
              "        text-align: right;\n",
              "    }\n",
              "</style>\n",
              "<table border=\"1\" class=\"dataframe\">\n",
              "  <thead>\n",
              "    <tr style=\"text-align: right;\">\n",
              "      <th></th>\n",
              "      <th>product_category_name</th>\n",
              "      <th>cantidad_total</th>\n",
              "    </tr>\n",
              "  </thead>\n",
              "  <tbody>\n",
              "    <tr>\n",
              "      <th>0</th>\n",
              "      <td>cama_mesa_banho</td>\n",
              "      <td>11115</td>\n",
              "    </tr>\n",
              "    <tr>\n",
              "      <th>1</th>\n",
              "      <td>beleza_saude</td>\n",
              "      <td>9670</td>\n",
              "    </tr>\n",
              "    <tr>\n",
              "      <th>2</th>\n",
              "      <td>esporte_lazer</td>\n",
              "      <td>8641</td>\n",
              "    </tr>\n",
              "    <tr>\n",
              "      <th>3</th>\n",
              "      <td>moveis_decoracao</td>\n",
              "      <td>8334</td>\n",
              "    </tr>\n",
              "    <tr>\n",
              "      <th>4</th>\n",
              "      <td>informatica_acessorios</td>\n",
              "      <td>7827</td>\n",
              "    </tr>\n",
              "    <tr>\n",
              "      <th>5</th>\n",
              "      <td>utilidades_domesticas</td>\n",
              "      <td>6964</td>\n",
              "    </tr>\n",
              "    <tr>\n",
              "      <th>6</th>\n",
              "      <td>relogios_presentes</td>\n",
              "      <td>5991</td>\n",
              "    </tr>\n",
              "    <tr>\n",
              "      <th>7</th>\n",
              "      <td>telefonia</td>\n",
              "      <td>4545</td>\n",
              "    </tr>\n",
              "    <tr>\n",
              "      <th>8</th>\n",
              "      <td>ferramentas_jardim</td>\n",
              "      <td>4347</td>\n",
              "    </tr>\n",
              "    <tr>\n",
              "      <th>9</th>\n",
              "      <td>automotivo</td>\n",
              "      <td>4235</td>\n",
              "    </tr>\n",
              "  </tbody>\n",
              "</table>\n",
              "</div>\n",
              "    <div class=\"colab-df-buttons\">\n",
              "\n",
              "  <div class=\"colab-df-container\">\n",
              "    <button class=\"colab-df-convert\" onclick=\"convertToInteractive('df-50a668dc-896c-4178-976b-22d8a3fb68e7')\"\n",
              "            title=\"Convert this dataframe to an interactive table.\"\n",
              "            style=\"display:none;\">\n",
              "\n",
              "  <svg xmlns=\"http://www.w3.org/2000/svg\" height=\"24px\" viewBox=\"0 -960 960 960\">\n",
              "    <path d=\"M120-120v-720h720v720H120Zm60-500h600v-160H180v160Zm220 220h160v-160H400v160Zm0 220h160v-160H400v160ZM180-400h160v-160H180v160Zm440 0h160v-160H620v160ZM180-180h160v-160H180v160Zm440 0h160v-160H620v160Z\"/>\n",
              "  </svg>\n",
              "    </button>\n",
              "\n",
              "  <style>\n",
              "    .colab-df-container {\n",
              "      display:flex;\n",
              "      gap: 12px;\n",
              "    }\n",
              "\n",
              "    .colab-df-convert {\n",
              "      background-color: #E8F0FE;\n",
              "      border: none;\n",
              "      border-radius: 50%;\n",
              "      cursor: pointer;\n",
              "      display: none;\n",
              "      fill: #1967D2;\n",
              "      height: 32px;\n",
              "      padding: 0 0 0 0;\n",
              "      width: 32px;\n",
              "    }\n",
              "\n",
              "    .colab-df-convert:hover {\n",
              "      background-color: #E2EBFA;\n",
              "      box-shadow: 0px 1px 2px rgba(60, 64, 67, 0.3), 0px 1px 3px 1px rgba(60, 64, 67, 0.15);\n",
              "      fill: #174EA6;\n",
              "    }\n",
              "\n",
              "    .colab-df-buttons div {\n",
              "      margin-bottom: 4px;\n",
              "    }\n",
              "\n",
              "    [theme=dark] .colab-df-convert {\n",
              "      background-color: #3B4455;\n",
              "      fill: #D2E3FC;\n",
              "    }\n",
              "\n",
              "    [theme=dark] .colab-df-convert:hover {\n",
              "      background-color: #434B5C;\n",
              "      box-shadow: 0px 1px 3px 1px rgba(0, 0, 0, 0.15);\n",
              "      filter: drop-shadow(0px 1px 2px rgba(0, 0, 0, 0.3));\n",
              "      fill: #FFFFFF;\n",
              "    }\n",
              "  </style>\n",
              "\n",
              "    <script>\n",
              "      const buttonEl =\n",
              "        document.querySelector('#df-50a668dc-896c-4178-976b-22d8a3fb68e7 button.colab-df-convert');\n",
              "      buttonEl.style.display =\n",
              "        google.colab.kernel.accessAllowed ? 'block' : 'none';\n",
              "\n",
              "      async function convertToInteractive(key) {\n",
              "        const element = document.querySelector('#df-50a668dc-896c-4178-976b-22d8a3fb68e7');\n",
              "        const dataTable =\n",
              "          await google.colab.kernel.invokeFunction('convertToInteractive',\n",
              "                                                    [key], {});\n",
              "        if (!dataTable) return;\n",
              "\n",
              "        const docLinkHtml = 'Like what you see? Visit the ' +\n",
              "          '<a target=\"_blank\" href=https://colab.research.google.com/notebooks/data_table.ipynb>data table notebook</a>'\n",
              "          + ' to learn more about interactive tables.';\n",
              "        element.innerHTML = '';\n",
              "        dataTable['output_type'] = 'display_data';\n",
              "        await google.colab.output.renderOutput(dataTable, element);\n",
              "        const docLink = document.createElement('div');\n",
              "        docLink.innerHTML = docLinkHtml;\n",
              "        element.appendChild(docLink);\n",
              "      }\n",
              "    </script>\n",
              "  </div>\n",
              "\n",
              "\n",
              "<div id=\"df-b0cbd6eb-c479-4b23-bd18-11d660ed2528\">\n",
              "  <button class=\"colab-df-quickchart\" onclick=\"quickchart('df-b0cbd6eb-c479-4b23-bd18-11d660ed2528')\"\n",
              "            title=\"Suggest charts.\"\n",
              "            style=\"display:none;\">\n",
              "\n",
              "<svg xmlns=\"http://www.w3.org/2000/svg\" height=\"24px\"viewBox=\"0 0 24 24\"\n",
              "     width=\"24px\">\n",
              "    <g>\n",
              "        <path d=\"M19 3H5c-1.1 0-2 .9-2 2v14c0 1.1.9 2 2 2h14c1.1 0 2-.9 2-2V5c0-1.1-.9-2-2-2zM9 17H7v-7h2v7zm4 0h-2V7h2v10zm4 0h-2v-4h2v4z\"/>\n",
              "    </g>\n",
              "</svg>\n",
              "  </button>\n",
              "\n",
              "<style>\n",
              "  .colab-df-quickchart {\n",
              "    background-color: #E8F0FE;\n",
              "    border: none;\n",
              "    border-radius: 50%;\n",
              "    cursor: pointer;\n",
              "    display: none;\n",
              "    fill: #1967D2;\n",
              "    height: 32px;\n",
              "    padding: 0 0 0 0;\n",
              "    width: 32px;\n",
              "  }\n",
              "\n",
              "  .colab-df-quickchart:hover {\n",
              "    background-color: #E2EBFA;\n",
              "    box-shadow: 0px 1px 2px rgba(60, 64, 67, 0.3), 0px 1px 3px 1px rgba(60, 64, 67, 0.15);\n",
              "    fill: #174EA6;\n",
              "  }\n",
              "\n",
              "  [theme=dark] .colab-df-quickchart {\n",
              "    background-color: #3B4455;\n",
              "    fill: #D2E3FC;\n",
              "  }\n",
              "\n",
              "  [theme=dark] .colab-df-quickchart:hover {\n",
              "    background-color: #434B5C;\n",
              "    box-shadow: 0px 1px 3px 1px rgba(0, 0, 0, 0.15);\n",
              "    filter: drop-shadow(0px 1px 2px rgba(0, 0, 0, 0.3));\n",
              "    fill: #FFFFFF;\n",
              "  }\n",
              "</style>\n",
              "\n",
              "  <script>\n",
              "    async function quickchart(key) {\n",
              "      const charts = await google.colab.kernel.invokeFunction(\n",
              "          'suggestCharts', [key], {});\n",
              "    }\n",
              "    (() => {\n",
              "      let quickchartButtonEl =\n",
              "        document.querySelector('#df-b0cbd6eb-c479-4b23-bd18-11d660ed2528 button');\n",
              "      quickchartButtonEl.style.display =\n",
              "        google.colab.kernel.accessAllowed ? 'block' : 'none';\n",
              "    })();\n",
              "  </script>\n",
              "</div>\n",
              "    </div>\n",
              "  </div>\n"
            ]
          },
          "metadata": {},
          "execution_count": 218
        }
      ]
    },
    {
      "cell_type": "code",
      "source": [
        "categoria_mas_vendida.to_csv('categoria_mas_vendida.csv', index=False)"
      ],
      "metadata": {
        "id": "jY2Zytv1yTIr"
      },
      "execution_count": 219,
      "outputs": []
    },
    {
      "cell_type": "markdown",
      "source": [
        "● **Generar un informe que muestre las categorías de\n",
        "productos más populares en términos de ventas.**\n",
        "\n",
        "En el grafico a continuacion se muestran las primeras 10 categorías de productos más vendidos. En primer lugar se encuentra el mobiliario para el hogar, siendo la unica categría que supera las 10.000 ventas; seguido de salud/belleza y a continuación deportes/placer. Esto indica que quienes comprar pueden ser persnas que les gusta estar comodas en su hogar y se preocupan por su apariencia.\n",
        "Recomendaría analizar donde se encuentran distribuidas estas tres areas en la tienda y poner algun producto de categorias menos vendidas a su alrededor."
      ],
      "metadata": {
        "id": "bBAl6dkoXC6o"
      }
    },
    {
      "cell_type": "code",
      "source": [
        "data_grafico = categoria_mas_vendida.sort_values(by='cantidad_total')\n",
        "palette_color = sns.color_palette('pastel')\n",
        "\n",
        "plt.figure(figsize=(10, 6))\n",
        "plt.bar(categoria_mas_vendida['product_category_name'], categoria_mas_vendida['cantidad_total'], color=palette_color)\n",
        "plt.title('Categorias de productos más vendidos')\n",
        "plt.xlabel('Categoria')\n",
        "plt.ylabel('Cantidad')\n",
        "plt.xticks(rotation=45,ha='right', fontsize=8)\n",
        "plt.grid(False)\n",
        "plt.show()"
      ],
      "metadata": {
        "id": "hVqCpvluaCzu",
        "colab": {
          "base_uri": "https://localhost:8080/",
          "height": 649
        },
        "outputId": "0445502b-cdbb-4f14-8f84-ef37b02c5329"
      },
      "execution_count": 145,
      "outputs": [
        {
          "output_type": "display_data",
          "data": {
            "text/plain": [
              "<Figure size 1000x600 with 1 Axes>"
            ],
            "image/png": "[encoded data removed]"
          },
          "metadata": {}
        }
      ]
    },
    {
      "cell_type": "markdown",
      "source": [
        "# Análisis de la satisfacción del cliente basado en la velocidad de entrega"
      ],
      "metadata": {
        "id": "PT0kpiT_DViT"
      }
    },
    {
      "cell_type": "markdown",
      "source": [
        "● Utilizando datos de las tablas customers y orders."
      ],
      "metadata": {
        "id": "TyxaGrrTDbzy"
      }
    },
    {
      "cell_type": "markdown",
      "source": [
        "● Calcula el tiempo promedio de entrega de los pedidos por cliente."
      ],
      "metadata": {
        "id": "-0zCSaltCELc"
      }
    },
    {
      "cell_type": "code",
      "source": [
        "promedio_entrega_query = '''\n",
        "SELECT\n",
        "  o.customer_id, AVG(julianday(o.order_delivered_customer_date)-julianday(o.order_purchase_timestamp)) AS promedio_entrega\n",
        "FROM orders o\n",
        "WHERE o.order_delivered_customer_date IS NOT NULL\n",
        "GROUP BY o.customer_id\n",
        "order by promedio_entrega DESC;\n",
        "\n",
        "'''\n",
        "promedio_entrega = pd.read_sql_query(promedio_entrega_query, conn)\n",
        "promedio_entrega"
      ],
      "metadata": {
        "id": "8lCurzUBLYPX"
      },
      "execution_count": null,
      "outputs": []
    },
    {
      "cell_type": "code",
      "source": [
        "promedio_entrega.to_csv('tiempo promedio entrega por cliente.csv', index=False)"
      ],
      "metadata": {
        "id": "ANADMBj3yesM"
      },
      "execution_count": null,
      "outputs": []
    },
    {
      "cell_type": "markdown",
      "source": [
        "● Genera un informe que muestre los clientes con los\n",
        "tiempos de entrega más rápidos y más lentos.\n",
        "\n",
        "Para el presente analisis tomamos los 10 datos de entregas más rápidas y los 10 mas lentas, detectamos una diferencia muy grande ellos. Los pedidos más rápidos se realizaron en el mismo dia, mientras que los más demoraron más de 175 días. Deberiamos analizar en profundidad para saber a que productos corresponde y si son plazos normales de entrega para esas categorias de producto o no."
      ],
      "metadata": {
        "id": "Pn7i4fnCZ7D1"
      }
    },
    {
      "cell_type": "code",
      "source": [
        "grafico_entrega_maximo = promedio_entrega.head(10)\n",
        "grafico_entrega_minimo = promedio_entrega.tail(10)\n",
        "grafico_entrega = pd.merge(grafico_entrega_maximo,grafico_entrega_minimo, how='outer')\n",
        "grafico_entrega\n",
        "\n",
        "colors = ['lightblue' if promedio_entrega > 1 else 'grey' for promedio_entrega in grafico_entrega['promedio_entrega']]\n",
        "\n",
        "plt.figure(figsize=(10,6))\n",
        "bars = grafico_entrega.plot(kind='bar', x='customer_id', y ='promedio_entrega', color=colors)\n",
        "plt.title('Top 10 entregas más rápidas y más lentas')\n",
        "plt.xlabel('Cliente')\n",
        "plt.ylabel('Promedio Entrega')\n",
        "plt.legend(['Más rapido','Mas lento'])\n",
        "plt.xticks(rotation=45,fontsize=1)\n",
        "plt.tight_layout()\n",
        "\n",
        "\n",
        "slow_patch = plt.Line2D([0],[0], marker='o',color='w', label='Tiempos más lentos', markersize=10, markerfacecolor='lightblue')\n",
        "fast_patch = plt.Line2D([0],[0], marker='o',color='w', label='Tiempos más rápidos', markersize=10, markerfacecolor='grey')\n",
        "plt.legend(handles=[fast_patch, slow_patch])\n",
        "\n",
        "plt.show()"
      ],
      "metadata": {
        "colab": {
          "base_uri": "https://localhost:8080/",
          "height": 504
        },
        "id": "kKAvCcPWqf4C",
        "outputId": "71304e23-6120-46c3-8b49-7173490d0e96"
      },
      "execution_count": 125,
      "outputs": [
        {
          "output_type": "display_data",
          "data": {
            "text/plain": [
              "<Figure size 1000x600 with 0 Axes>"
            ]
          },
          "metadata": {}
        },
        {
          "output_type": "display_data",
          "data": {
            "text/plain": [
              "<Figure size 640x480 with 1 Axes>"
            ],
            "image/png": "[encoded data removed]"
          },
          "metadata": {}
        }
      ]
    },
    {
      "cell_type": "markdown",
      "source": [
        "# Analizar el rendimiento de los métodos de pago utilizados por los clientes"
      ],
      "metadata": {
        "id": "4zapQwjQDgBz"
      }
    },
    {
      "cell_type": "markdown",
      "source": [
        "● Utilizar datos de los archivos customers y\n",
        "order_payments."
      ],
      "metadata": {
        "id": "bkuzJE8TDlW-"
      }
    },
    {
      "cell_type": "markdown",
      "source": [
        "● Agrupar los pagos por método de pago y calcula el total de pagos realizados con cada método. (se realizo conteo monetario del total de pagos)"
      ],
      "metadata": {
        "id": "r-MdPWnLX8kG"
      }
    },
    {
      "cell_type": "code",
      "source": [
        "metodo_pago_query = '''\n",
        "SELECT\n",
        "  op.payment_type, ROUND(SUM(op.payment_value), 2) AS total_pagos, count(op.payment_value) as cantidad\n",
        "FROM order_payments op\n",
        "WHERE op.payment_value >0\n",
        "GROUP BY op.payment_type\n",
        "ORDER BY total_pagos DESC;\n",
        "\n",
        "'''\n",
        "metodo_pago = pd.read_sql_query(metodo_pago_query, conn)\n",
        "metodo_pago\n"
      ],
      "metadata": {
        "id": "LeATGXpAX9Fd"
      },
      "execution_count": null,
      "outputs": []
    },
    {
      "cell_type": "code",
      "source": [
        "metodo_pago.to_csv('metodo_pago_ventas.csv', index=False)"
      ],
      "metadata": {
        "id": "7-w9LAG7yhLn"
      },
      "execution_count": 220,
      "outputs": []
    },
    {
      "cell_type": "markdown",
      "source": [
        "● Generar un informe que muestre los métodos de pago más utilizados por los clientes.\n",
        "\n",
        "Se puede analizar que más del 75% de lo facturado proviene de ventas realizadas con tarjeta de crédito, lo que nos indica que nuestros clientes están bancarizados.\n",
        "Aún tenemos un segmento de casi el 18% que utiliza boleto, es decir, no bancarizado. Habria que realizar analisis etario de los clientes y locación de compra para tener mayor información de las promociones a ofrecer."
      ],
      "metadata": {
        "id": "ybWE7W1pX9TM"
      }
    },
    {
      "cell_type": "code",
      "source": [
        "import matplotlib.pyplot as plt"
      ],
      "metadata": {
        "id": "wC3i05aD1wUJ"
      },
      "execution_count": 85,
      "outputs": []
    },
    {
      "cell_type": "code",
      "source": [
        "x = metodo_pago['total_pagos']\n",
        "labels = ['Tarjeta de crédito', 'Boleto', 'Voucher', 'Tarjeta de débito']\n",
        "palette_color = sns.color_palette('pastel')\n",
        "explode = (0.1, 0, 0, 0)\n",
        "\n",
        "fig, ax = plt.subplots(figsize=(8, 6))\n",
        "ax.pie(x, autopct='%.1f%%',colors=palette_color, wedgeprops={'linewidth': 3.0, 'edgecolor': 'white'}, startangle=45)\n",
        "ax.set_title('Ventas por medio de pago', fontweight=\"bold\")\n",
        "plt.legend(loc='lower center', labels=labels, bbox_to_anchor=(0.96,0.56), ncol=1, fontsize=8)\n",
        "plt.tight_layout()"
      ],
      "metadata": {
        "colab": {
          "base_uri": "https://localhost:8080/",
          "height": 607
        },
        "id": "ynMSERTwBG6w",
        "outputId": "c84774e1-06f2-472e-951e-6faf60d4502b"
      },
      "execution_count": 210,
      "outputs": [
        {
          "output_type": "display_data",
          "data": {
            "text/plain": [
              "<Figure size 800x600 with 1 Axes>"
            ],
            "image/png": "[encoded data removed]"
          },
          "metadata": {}
        }
      ]
    }
  ]
}